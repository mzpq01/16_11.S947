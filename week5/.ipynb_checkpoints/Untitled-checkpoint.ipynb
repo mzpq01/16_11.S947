{
 "cells": [
  {
   "cell_type": "code",
   "execution_count": 1,
   "metadata": {
    "collapsed": true
   },
   "outputs": [],
   "source": [
    "import pandas as pd"
   ]
  },
  {
   "cell_type": "code",
   "execution_count": 2,
   "metadata": {
    "collapsed": true
   },
   "outputs": [],
   "source": [
    "# Import some libraries\n",
    "import networkx as nx\n",
    "import matplotlib.pyplot as plt\n",
    "import numpy as np\n",
    "import pandas as pd\n",
    "import seaborn as sns\n",
    "\n",
    "# This allows plots to appear on the IPython notebook.\n",
    "%matplotlib inline "
   ]
  },
  {
   "cell_type": "code",
   "execution_count": 3,
   "metadata": {
    "collapsed": false
   },
   "outputs": [
    {
     "data": {
      "text/html": [
       "<div>\n",
       "<table border=\"1\" class=\"dataframe\">\n",
       "  <thead>\n",
       "    <tr style=\"text-align: right;\">\n",
       "      <th></th>\n",
       "      <th>FROM-ID</th>\n",
       "      <th>TO-ID</th>\n",
       "      <th>DISTANCE</th>\n",
       "    </tr>\n",
       "  </thead>\n",
       "  <tbody>\n",
       "    <tr>\n",
       "      <th>0</th>\n",
       "      <td>4f3381cae4b0befff0254890</td>\n",
       "      <td>4d90bb7ffa9437048ca338c6</td>\n",
       "      <td>0.050111</td>\n",
       "    </tr>\n",
       "    <tr>\n",
       "      <th>1</th>\n",
       "      <td>4f3381cae4b0befff0254890</td>\n",
       "      <td>50e4021b582f294b85631919</td>\n",
       "      <td>0.083781</td>\n",
       "    </tr>\n",
       "    <tr>\n",
       "      <th>2</th>\n",
       "      <td>4f3381cae4b0befff0254890</td>\n",
       "      <td>4e341a00e4cdf7a42cad9421</td>\n",
       "      <td>0.046179</td>\n",
       "    </tr>\n",
       "    <tr>\n",
       "      <th>3</th>\n",
       "      <td>4f3381cae4b0befff0254890</td>\n",
       "      <td>50433012e4b05698baa75339</td>\n",
       "      <td>0.057012</td>\n",
       "    </tr>\n",
       "    <tr>\n",
       "      <th>4</th>\n",
       "      <td>4f3381cae4b0befff0254890</td>\n",
       "      <td>4f8f03f5e4b09b4d92853b2c</td>\n",
       "      <td>0.029747</td>\n",
       "    </tr>\n",
       "  </tbody>\n",
       "</table>\n",
       "</div>"
      ],
      "text/plain": [
       "                    FROM-ID                     TO-ID  DISTANCE\n",
       "0  4f3381cae4b0befff0254890  4d90bb7ffa9437048ca338c6  0.050111\n",
       "1  4f3381cae4b0befff0254890  50e4021b582f294b85631919  0.083781\n",
       "2  4f3381cae4b0befff0254890  4e341a00e4cdf7a42cad9421  0.046179\n",
       "3  4f3381cae4b0befff0254890  50433012e4b05698baa75339  0.057012\n",
       "4  4f3381cae4b0befff0254890  4f8f03f5e4b09b4d92853b2c  0.029747"
      ]
     },
     "execution_count": 3,
     "metadata": {},
     "output_type": "execute_result"
    }
   ],
   "source": [
    "# Use pandas to import the csv\n",
    "df_edges = pd.read_csv('data/FoursqureLinksNetwork.csv', sep=\",\")\n",
    "df_edges.head()"
   ]
  },
  {
   "cell_type": "code",
   "execution_count": 4,
   "metadata": {
    "collapsed": false
   },
   "outputs": [
    {
     "data": {
      "text/html": [
       "<div>\n",
       "<table border=\"1\" class=\"dataframe\">\n",
       "  <thead>\n",
       "    <tr style=\"text-align: right;\">\n",
       "      <th></th>\n",
       "      <th>ID</th>\n",
       "      <th>NAME</th>\n",
       "      <th>CATEGORY</th>\n",
       "      <th>CHECK-IN</th>\n",
       "      <th>LAT</th>\n",
       "      <th>LONG</th>\n",
       "    </tr>\n",
       "  </thead>\n",
       "  <tbody>\n",
       "    <tr>\n",
       "      <th>0</th>\n",
       "      <td>558e5ce5498e164a5cb27afc</td>\n",
       "      <td>�����_�� �_�������� ���_���� - King Khalid Air...</td>\n",
       "      <td>Airport Terminal</td>\n",
       "      <td>21</td>\n",
       "      <td>24.760483</td>\n",
       "      <td>46.705338</td>\n",
       "    </tr>\n",
       "    <tr>\n",
       "      <th>1</th>\n",
       "      <td>4ccd23f1c0378cfa93b68b48</td>\n",
       "      <td>Princess Nora University</td>\n",
       "      <td>College Academic Building</td>\n",
       "      <td>532</td>\n",
       "      <td>24.774344</td>\n",
       "      <td>46.728845</td>\n",
       "    </tr>\n",
       "    <tr>\n",
       "      <th>2</th>\n",
       "      <td>4da5ec8a4b2280544b678da0</td>\n",
       "      <td>Lulu Hypermarket | �������� ���_�_�������_������</td>\n",
       "      <td>Department Store</td>\n",
       "      <td>6453</td>\n",
       "      <td>24.663989</td>\n",
       "      <td>46.703757</td>\n",
       "    </tr>\n",
       "    <tr>\n",
       "      <th>3</th>\n",
       "      <td>50295233e4b0db2acbb75c69</td>\n",
       "      <td>Papparoti | ���_���_�����ș_</td>\n",
       "      <td>Coffee Shop</td>\n",
       "      <td>2168</td>\n",
       "      <td>24.693468</td>\n",
       "      <td>46.669636</td>\n",
       "    </tr>\n",
       "    <tr>\n",
       "      <th>4</th>\n",
       "      <td>4da5ec8a4b2280544b678da0</td>\n",
       "      <td>Avenue Mall</td>\n",
       "      <td>Department Store</td>\n",
       "      <td>1474</td>\n",
       "      <td>24.663569</td>\n",
       "      <td>46.703937</td>\n",
       "    </tr>\n",
       "  </tbody>\n",
       "</table>\n",
       "</div>"
      ],
      "text/plain": [
       "                         ID  \\\n",
       "0  558e5ce5498e164a5cb27afc   \n",
       "1  4ccd23f1c0378cfa93b68b48   \n",
       "2  4da5ec8a4b2280544b678da0   \n",
       "3  50295233e4b0db2acbb75c69   \n",
       "4  4da5ec8a4b2280544b678da0   \n",
       "\n",
       "                                                NAME  \\\n",
       "0  �����_�� �_�������� ���_���� - King Khalid Air...   \n",
       "1                           Princess Nora University   \n",
       "2   Lulu Hypermarket | �������� ���_�_�������_������   \n",
       "3                        Papparoti | ���_���_�����ș_   \n",
       "4                                        Avenue Mall   \n",
       "\n",
       "                    CATEGORY  CHECK-IN        LAT       LONG  \n",
       "0           Airport Terminal        21  24.760483  46.705338  \n",
       "1  College Academic Building       532  24.774344  46.728845  \n",
       "2           Department Store      6453  24.663989  46.703757  \n",
       "3                Coffee Shop      2168  24.693468  46.669636  \n",
       "4           Department Store      1474  24.663569  46.703937  "
      ]
     },
     "execution_count": 4,
     "metadata": {},
     "output_type": "execute_result"
    }
   ],
   "source": [
    "df_nodes = pd.read_csv('data/FoursqureCheckinNodes.csv', sep=\",\")\n",
    "df_nodes.head()\n"
   ]
  },
  {
   "cell_type": "code",
   "execution_count": 5,
   "metadata": {
    "collapsed": false
   },
   "outputs": [
    {
     "name": "stdout",
     "output_type": "stream",
     "text": [
      "<class 'pandas.core.frame.DataFrame'>\n",
      "Int64Index: 448 entries, 0 to 447\n",
      "Data columns (total 6 columns):\n",
      "ID          448 non-null object\n",
      "NAME        448 non-null object\n",
      "CATEGORY    448 non-null object\n",
      "CHECK-IN    448 non-null int64\n",
      "LAT         448 non-null float64\n",
      "LONG        448 non-null float64\n",
      "dtypes: float64(2), int64(1), object(3)\n",
      "memory usage: 24.5+ KB\n"
     ]
    }
   ],
   "source": [
    "df_nodes.info()"
   ]
  },
  {
   "cell_type": "code",
   "execution_count": 6,
   "metadata": {
    "collapsed": false
   },
   "outputs": [
    {
     "name": "stdout",
     "output_type": "stream",
     "text": [
      "<class 'pandas.core.frame.DataFrame'>\n",
      "Int64Index: 1578 entries, 0 to 1577\n",
      "Data columns (total 3 columns):\n",
      "FROM-ID     1578 non-null object\n",
      "TO-ID       1578 non-null object\n",
      "DISTANCE    1578 non-null float64\n",
      "dtypes: float64(1), object(2)\n",
      "memory usage: 49.3+ KB\n"
     ]
    }
   ],
   "source": [
    "df_edges.info()"
   ]
  },
  {
   "cell_type": "code",
   "execution_count": 7,
   "metadata": {
    "collapsed": true
   },
   "outputs": [],
   "source": [
    "merged = df_edges.merge(df_nodes, left_on='FROM-ID', right_on='ID')"
   ]
  },
  {
   "cell_type": "code",
   "execution_count": 8,
   "metadata": {
    "collapsed": true
   },
   "outputs": [],
   "source": [
    "del merged['ID']"
   ]
  },
  {
   "cell_type": "code",
   "execution_count": 9,
   "metadata": {
    "collapsed": false
   },
   "outputs": [
    {
     "data": {
      "text/plain": [
       "1510"
      ]
     },
     "execution_count": 9,
     "metadata": {},
     "output_type": "execute_result"
    }
   ],
   "source": [
    "len(merged)"
   ]
  },
  {
   "cell_type": "code",
   "execution_count": 10,
   "metadata": {
    "collapsed": true
   },
   "outputs": [],
   "source": [
    "merged.rename(columns = {'LAT':'FROM-LAT','LONG':'FROM-LON'},inplace=True)"
   ]
  },
  {
   "cell_type": "code",
   "execution_count": 17,
   "metadata": {
    "collapsed": true
   },
   "outputs": [],
   "source": [
    "completeMerge = merged.merge(df_nodes, left_on='TO-ID', right_on='ID')"
   ]
  },
  {
   "cell_type": "code",
   "execution_count": 18,
   "metadata": {
    "collapsed": true
   },
   "outputs": [],
   "source": [
    "del completeMerge['ID']"
   ]
  },
  {
   "cell_type": "code",
   "execution_count": 19,
   "metadata": {
    "collapsed": false
   },
   "outputs": [
    {
     "data": {
      "text/plain": [
       "537"
      ]
     },
     "execution_count": 19,
     "metadata": {},
     "output_type": "execute_result"
    }
   ],
   "source": [
    "len(completeMerge)"
   ]
  },
  {
   "cell_type": "code",
   "execution_count": null,
   "metadata": {
    "collapsed": true
   },
   "outputs": [],
   "source": [
    "completeMerge.rename(columns = {'LAT':'TO-LAT','LONG':'TO-LON'},inplace=True)"
   ]
  },
  {
   "cell_type": "code",
   "execution_count": null,
   "metadata": {
    "collapsed": false
   },
   "outputs": [],
   "source": [
    "completeMerge.info()"
   ]
  },
  {
   "cell_type": "code",
   "execution_count": null,
   "metadata": {
    "collapsed": false
   },
   "outputs": [],
   "source": [
    "RG = nx.Graph()\n",
    "\n",
    "node_attrs = df_nodes[['NAME','CATEGORY','CHECK-IN','LAT','LONG']]\n",
    "for i in range(len(df_nodes['ID'])):\n",
    "    RG.add_node(df_nodes['ID'][i], nodes_attr=node_attrs.iloc[[i]])\n",
    "all_nodes = RG.nodes()\n",
    "nodes_num = RG.number_of_nodes()\n",
    "print nodes_num\n",
    "print len(RG.nodes())\n",
    "#print all_nodes\n",
    "#print nodes_num\n",
    "#print df_nodes['ID']"
   ]
  },
  {
   "cell_type": "code",
   "execution_count": null,
   "metadata": {
    "collapsed": false
   },
   "outputs": [],
   "source": [
    "completeMerge.info()"
   ]
  },
  {
   "cell_type": "code",
   "execution_count": null,
   "metadata": {
    "collapsed": false
   },
   "outputs": [],
   "source": [
    "keys = ['DISTANCE','FROM-LAT','FROM-LON','TO-LAT','TO-LON']\n",
    "for idx,row in completeMerge.iterrows():\n",
    "    edge_attributes = dict(zip(keys, row[keys]))\n",
    "    node_id = (row['FROM-ID'],row['TO-ID'])\n",
    "    RG.add_edge(*node_id,attr_dict=edge_attributes)\n"
   ]
  },
  {
   "cell_type": "code",
   "execution_count": null,
   "metadata": {
    "collapsed": true
   },
   "outputs": [],
   "source": [
    "geoloc = {}\n",
    "for idx,row in df_nodes.iterrows():\n",
    "    geoloc[row['ID']]=(row['LAT'],row['LONG'])"
   ]
  },
  {
   "cell_type": "code",
   "execution_count": null,
   "metadata": {
    "collapsed": false
   },
   "outputs": [],
   "source": [
    "degrees"
   ]
  },
  {
   "cell_type": "code",
   "execution_count": null,
   "metadata": {
    "collapsed": false
   },
   "outputs": [],
   "source": [
    "type(nx.degree(RG)) "
   ]
  },
  {
   "cell_type": "code",
   "execution_count": null,
   "metadata": {
    "collapsed": false
   },
   "outputs": [],
   "source": [
    "len(RG.nodes())"
   ]
  },
  {
   "cell_type": "code",
   "execution_count": null,
   "metadata": {
    "collapsed": false
   },
   "outputs": [],
   "source": [
    "plt.figure(figsize=(20,20))\n",
    "degrees = nx.degree(RG)    \n",
    "node_sizes = [v * 20 for v in degrees.values()]\n",
    "node_colors = range(len(RG.nodes()))\n",
    "nx.draw(RG, pos=geoloc,nodelist=degrees.keys(), node_size=[node_sizes], width=.5, node_color=node_colors);"
   ]
  },
  {
   "cell_type": "code",
   "execution_count": null,
   "metadata": {
    "collapsed": false
   },
   "outputs": [],
   "source": [
    "P= nx.spring_layout(RG)\n",
    "plt.figure(figsize=(20,20))\n",
    "degrees = nx.degree(RG)    \n",
    "node_sizes = [v * 50 for v in degrees.values()]\n",
    "node_colors = range(len(RG.nodes()))\n",
    "nx.draw(RG, pos = P , nodelist=degrees.keys(), node_size=[node_sizes], width=.5, node_color=node_colors);"
   ]
  },
  {
   "cell_type": "markdown",
   "metadata": {},
   "source": [
    "keys = ['DISTANCE','FROM-LAT','FROM-LON','TO-LAT','TO-LON']\n",
    "for row in result_to.itertuples(index = False):\n",
    "    values = row[2:]\n",
    "    edge_attributes = dict(zip(keys, values))\n",
    "    node_id = (row[0],row[1])\n",
    "    RG.add_edge(*node_id, attr_dict=edge_attributes)\n",
    "print RG.edges()\n",
    "print RG.number_of_edges()"
   ]
  }
 ],
 "metadata": {
  "kernelspec": {
   "display_name": "Python 2",
   "language": "python",
   "name": "python2"
  },
  "language_info": {
   "codemirror_mode": {
    "name": "ipython",
    "version": 2
   },
   "file_extension": ".py",
   "mimetype": "text/x-python",
   "name": "python",
   "nbconvert_exporter": "python",
   "pygments_lexer": "ipython2",
   "version": "2.7.11"
  }
 },
 "nbformat": 4,
 "nbformat_minor": 0
}
